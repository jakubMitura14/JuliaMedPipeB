{
 "cells": [
  {
   "cell_type": "code",
   "execution_count": 1,
   "metadata": {
    "collapsed": true
   },
   "outputs": [],
   "source": [
    "import glob\n",
    "import os\n",
    "\n",
    "import numpy as np\n",
    "import pymia.evaluation.metric as metric\n",
    "import pymia.evaluation.evaluator as eval_\n",
    "import pymia.evaluation.writer as writer\n",
    "import SimpleITK as sitk"
   ]
  },
  {
   "cell_type": "code",
   "execution_count": 2,
   "outputs": [],
   "source": [
    "# filename = f\"C:\\\\Users\\\\1\\\\Downloads\\\\volumes 0-49\\\\volumes 0-49\\\\volume-21.nii.gz\"\n",
    "# biggestDat, meta = LoadImage()(filename)\n",
    "labelFilename = f\"C:\\\\Users\\\\1\\\\Downloads\\\\volumes 0-49\\\\labels\\\\labels-21.nii.gz\"\n",
    "\n",
    "ground_truth = sitk.ReadImage(labelFilename)\n",
    "#\n",
    "# result_file = '../example-data/results.csv'\n",
    "# result_summary_file = '../example-data/results_summary.csv'"
   ],
   "metadata": {
    "collapsed": false,
    "pycharm": {
     "name": "#%%\n"
    }
   }
  },
  {
   "cell_type": "code",
   "execution_count": 3,
   "outputs": [],
   "source": [
    "metrics = [metric.DiceCoefficient(), metric.HausdorffDistance(percentile=95, metric='HDRFDST95'), metric.VolumeSimilarity()]"
   ],
   "metadata": {
    "collapsed": false,
    "pycharm": {
     "name": "#%%\n"
    }
   }
  },
  {
   "cell_type": "code",
   "execution_count": 4,
   "outputs": [],
   "source": [
    "labels = {1: 'label'\n",
    "          }\n",
    "evaluator = eval_.SegmentationEvaluator(metrics, labels)"
   ],
   "metadata": {
    "collapsed": false,
    "pycharm": {
     "name": "#%%\n"
    }
   }
  },
  {
   "cell_type": "code",
   "execution_count": 6,
   "outputs": [],
   "source": [
    "    ground_truth = sitk.ReadImage(labelFilename)\n",
    "    clonedImageA = ground_truth.__deepcopy__()\n",
    "    sitk.GetArrayViewFromImage(clonedImageA)"
   ],
   "metadata": {
    "collapsed": false,
    "pycharm": {
     "name": "#%%\n"
    }
   }
  },
  {
   "cell_type": "code",
   "execution_count": null,
   "outputs": [],
   "source": [
    "evaluator.evaluate(prediction, ground_truth, subject_id)\n",
    "writer.ConsoleWriter().write(evaluator.results)\n"
   ],
   "metadata": {
    "collapsed": false,
    "pycharm": {
     "name": "#%%\n"
    }
   }
  }
 ],
 "metadata": {
  "kernelspec": {
   "display_name": "Python 3",
   "language": "python",
   "name": "python3"
  },
  "language_info": {
   "codemirror_mode": {
    "name": "ipython",
    "version": 2
   },
   "file_extension": ".py",
   "mimetype": "text/x-python",
   "name": "python",
   "nbconvert_exporter": "python",
   "pygments_lexer": "ipython2",
   "version": "2.7.6"
  }
 },
 "nbformat": 4,
 "nbformat_minor": 0
}