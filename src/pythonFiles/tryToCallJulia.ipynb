{
 "cells": [
  {
   "cell_type": "code",
   "execution_count": 1,
   "metadata": {
    "collapsed": true
   },
   "outputs": [
    {
     "name": "stdout",
     "output_type": "stream",
     "text": [
      "Requirement already satisfied: julia in c:\\users\\1\\pycharmprojects\\pythonproject3\\venv\\lib\\site-packages (0.5.7)\n"
     ]
    },
    {
     "name": "stderr",
     "output_type": "stream",
     "text": [
      "WARNING: Ignoring invalid distribution -upy-cuda115 (c:\\users\\1\\pycharmprojects\\pythonproject3\\venv\\lib\\site-packages)\n",
      "WARNING: Ignoring invalid distribution -upy-cuda115 (c:\\users\\1\\pycharmprojects\\pythonproject3\\venv\\lib\\site-packages)\n",
      "WARNING: Ignoring invalid distribution -upy-cuda115 (c:\\users\\1\\pycharmprojects\\pythonproject3\\venv\\lib\\site-packages)\n",
      "WARNING: Ignoring invalid distribution -upy-cuda115 (c:\\users\\1\\pycharmprojects\\pythonproject3\\venv\\lib\\site-packages)\n",
      "WARNING: Ignoring invalid distribution -upy-cuda115 (c:\\users\\1\\pycharmprojects\\pythonproject3\\venv\\lib\\site-packages)\n"
     ]
    }
   ],
   "source": [
    "!pip install julia"
   ]
  },
  {
   "cell_type": "code",
   "execution_count": 2,
   "outputs": [],
   "source": [
    "import julia\n",
    "julia.install()\n",
    "from julia import Base\n"
   ],
   "metadata": {
    "collapsed": false,
    "pycharm": {
     "name": "#%%\n"
    }
   }
  },
  {
   "cell_type": "code",
   "execution_count": 4,
   "outputs": [
    {
     "ename": "ImportError",
     "evalue": "\n================================================================\nFailed to import CuPy.\n\nIf you installed CuPy via wheels (cupy-cudaXXX or cupy-rocm-X-X), make sure that the package matches with the version of CUDA or ROCm installed.\n\nOn Linux, you may need to set LD_LIBRARY_PATH environment variable depending on how you installed CUDA/ROCm.\nOn Windows, try setting CUDA_PATH environment variable.\n\nCheck the Installation Guide for details:\n  https://docs.cupy.dev/en/latest/install.html\n\nOriginal error:\n  ImportError: cannot import name _util\n================================================================\n",
     "output_type": "error",
     "traceback": [
      "\u001B[1;31m---------------------------------------------------------------------------\u001B[0m",
      "\u001B[1;31mImportError\u001B[0m                               Traceback (most recent call last)",
      "\u001B[1;32mc:\\users\\1\\pycharmprojects\\pythonproject3\\venv\\lib\\site-packages\\cupy\\__init__.py\u001B[0m in \u001B[0;36m<module>\u001B[1;34m\u001B[0m\n\u001B[0;32m     17\u001B[0m \u001B[1;32mtry\u001B[0m\u001B[1;33m:\u001B[0m\u001B[1;33m\u001B[0m\u001B[1;33m\u001B[0m\u001B[0m\n\u001B[1;32m---> 18\u001B[1;33m     \u001B[1;32mfrom\u001B[0m \u001B[0mcupy\u001B[0m \u001B[1;32mimport\u001B[0m \u001B[0m_core\u001B[0m  \u001B[1;31m# NOQA\u001B[0m\u001B[1;33m\u001B[0m\u001B[1;33m\u001B[0m\u001B[0m\n\u001B[0m\u001B[0;32m     19\u001B[0m \u001B[1;32mexcept\u001B[0m \u001B[0mImportError\u001B[0m \u001B[1;32mas\u001B[0m \u001B[0me\u001B[0m\u001B[1;33m:\u001B[0m\u001B[1;33m\u001B[0m\u001B[1;33m\u001B[0m\u001B[0m\n",
      "\u001B[1;32mc:\\users\\1\\pycharmprojects\\pythonproject3\\venv\\lib\\site-packages\\cupy\\_core\\__init__.py\u001B[0m in \u001B[0;36m<module>\u001B[1;34m\u001B[0m\n\u001B[1;32m----> 1\u001B[1;33m \u001B[1;32mfrom\u001B[0m \u001B[0mcupy\u001B[0m\u001B[1;33m.\u001B[0m\u001B[0m_core\u001B[0m \u001B[1;32mimport\u001B[0m \u001B[0mcore\u001B[0m  \u001B[1;31m# NOQA\u001B[0m\u001B[1;33m\u001B[0m\u001B[1;33m\u001B[0m\u001B[0m\n\u001B[0m\u001B[0;32m      2\u001B[0m \u001B[1;32mfrom\u001B[0m \u001B[0mcupy\u001B[0m\u001B[1;33m.\u001B[0m\u001B[0m_core\u001B[0m \u001B[1;32mimport\u001B[0m \u001B[0mfusion\u001B[0m  \u001B[1;31m# NOQA\u001B[0m\u001B[1;33m\u001B[0m\u001B[1;33m\u001B[0m\u001B[0m\n\u001B[0;32m      3\u001B[0m \u001B[1;32mfrom\u001B[0m \u001B[0mcupy\u001B[0m\u001B[1;33m.\u001B[0m\u001B[0m_core\u001B[0m \u001B[1;32mimport\u001B[0m \u001B[0minternal\u001B[0m  \u001B[1;31m# NOQA\u001B[0m\u001B[1;33m\u001B[0m\u001B[1;33m\u001B[0m\u001B[0m\n",
      "\u001B[1;32mcupy\\_core\\core.pyx\u001B[0m in \u001B[0;36minit cupy._core.core\u001B[1;34m()\u001B[0m\n",
      "\u001B[1;32mcupy\\_core\\_kernel.pyx\u001B[0m in \u001B[0;36minit cupy._core._kernel\u001B[1;34m()\u001B[0m\n",
      "\u001B[1;32mc:\\users\\1\\pycharmprojects\\pythonproject3\\venv\\lib\\site-packages\\cupy\\cuda\\__init__.py\u001B[0m in \u001B[0;36m<module>\u001B[1;34m\u001B[0m\n\u001B[0;32m     13\u001B[0m \u001B[1;32mfrom\u001B[0m \u001B[0mcupy\u001B[0m\u001B[1;33m.\u001B[0m\u001B[0mcuda\u001B[0m \u001B[1;32mimport\u001B[0m \u001B[0mmemory_hooks\u001B[0m  \u001B[1;31m# NOQA\u001B[0m\u001B[1;33m\u001B[0m\u001B[1;33m\u001B[0m\u001B[0m\n\u001B[1;32m---> 14\u001B[1;33m \u001B[1;32mfrom\u001B[0m \u001B[0mcupy\u001B[0m\u001B[1;33m.\u001B[0m\u001B[0mcuda\u001B[0m \u001B[1;32mimport\u001B[0m \u001B[0mpinned_memory\u001B[0m  \u001B[1;31m# NOQA\u001B[0m\u001B[1;33m\u001B[0m\u001B[1;33m\u001B[0m\u001B[0m\n\u001B[0m\u001B[0;32m     15\u001B[0m \u001B[1;32mfrom\u001B[0m \u001B[0mcupy\u001B[0m\u001B[1;33m.\u001B[0m\u001B[0mcuda\u001B[0m \u001B[1;32mimport\u001B[0m \u001B[0mstream\u001B[0m  \u001B[1;31m# NOQA\u001B[0m\u001B[1;33m\u001B[0m\u001B[1;33m\u001B[0m\u001B[0m\n",
      "\u001B[1;32mcupy\\cuda\\pinned_memory.pyx\u001B[0m in \u001B[0;36minit cupy.cuda.pinned_memory\u001B[1;34m()\u001B[0m\n",
      "\u001B[1;31mImportError\u001B[0m: cannot import name _util",
      "\nThe above exception was the direct cause of the following exception:\n",
      "\u001B[1;31mImportError\u001B[0m                               Traceback (most recent call last)",
      "\u001B[1;32m~\\AppData\\Local\\Temp/ipykernel_28000/3887628935.py\u001B[0m in \u001B[0;36m<module>\u001B[1;34m\u001B[0m\n\u001B[0;32m      1\u001B[0m \u001B[1;31m#from https://gist.github.com/szagoruyko/dccce13465df1542621b728fcc15df53\u001B[0m\u001B[1;33m\u001B[0m\u001B[1;33m\u001B[0m\u001B[0m\n\u001B[0;32m      2\u001B[0m \u001B[1;32mimport\u001B[0m \u001B[0mtorch\u001B[0m\u001B[1;33m\u001B[0m\u001B[1;33m\u001B[0m\u001B[0m\n\u001B[1;32m----> 3\u001B[1;33m \u001B[1;32mfrom\u001B[0m \u001B[0mcupy\u001B[0m\u001B[1;33m.\u001B[0m\u001B[0mcuda\u001B[0m \u001B[1;32mimport\u001B[0m \u001B[0mfunction\u001B[0m\u001B[1;33m\u001B[0m\u001B[1;33m\u001B[0m\u001B[0m\n\u001B[0m\u001B[0;32m      4\u001B[0m \u001B[1;32mfrom\u001B[0m \u001B[0mpynvrtc\u001B[0m\u001B[1;33m.\u001B[0m\u001B[0mcompiler\u001B[0m \u001B[1;32mimport\u001B[0m \u001B[0mProgram\u001B[0m\u001B[1;33m\u001B[0m\u001B[1;33m\u001B[0m\u001B[0m\n\u001B[0;32m      5\u001B[0m \u001B[1;32mfrom\u001B[0m \u001B[0mcollections\u001B[0m \u001B[1;32mimport\u001B[0m \u001B[0mnamedtuple\u001B[0m\u001B[1;33m\u001B[0m\u001B[1;33m\u001B[0m\u001B[0m\n",
      "\u001B[1;32mc:\\users\\1\\pycharmprojects\\pythonproject3\\venv\\lib\\site-packages\\cupy\\__init__.py\u001B[0m in \u001B[0;36m<module>\u001B[1;34m\u001B[0m\n\u001B[0;32m     18\u001B[0m     \u001B[1;32mfrom\u001B[0m \u001B[0mcupy\u001B[0m \u001B[1;32mimport\u001B[0m \u001B[0m_core\u001B[0m  \u001B[1;31m# NOQA\u001B[0m\u001B[1;33m\u001B[0m\u001B[1;33m\u001B[0m\u001B[0m\n\u001B[0;32m     19\u001B[0m \u001B[1;32mexcept\u001B[0m \u001B[0mImportError\u001B[0m \u001B[1;32mas\u001B[0m \u001B[0me\u001B[0m\u001B[1;33m:\u001B[0m\u001B[1;33m\u001B[0m\u001B[1;33m\u001B[0m\u001B[0m\n\u001B[1;32m---> 20\u001B[1;33m     raise ImportError(f'''\n\u001B[0m\u001B[0;32m     21\u001B[0m \u001B[1;33m==\u001B[0m\u001B[1;33m==\u001B[0m\u001B[1;33m==\u001B[0m\u001B[1;33m==\u001B[0m\u001B[1;33m==\u001B[0m\u001B[1;33m==\u001B[0m\u001B[1;33m==\u001B[0m\u001B[1;33m==\u001B[0m\u001B[1;33m==\u001B[0m\u001B[1;33m==\u001B[0m\u001B[1;33m==\u001B[0m\u001B[1;33m==\u001B[0m\u001B[1;33m==\u001B[0m\u001B[1;33m==\u001B[0m\u001B[1;33m==\u001B[0m\u001B[1;33m==\u001B[0m\u001B[1;33m==\u001B[0m\u001B[1;33m==\u001B[0m\u001B[1;33m==\u001B[0m\u001B[1;33m==\u001B[0m\u001B[1;33m==\u001B[0m\u001B[1;33m==\u001B[0m\u001B[1;33m==\u001B[0m\u001B[1;33m==\u001B[0m\u001B[1;33m==\u001B[0m\u001B[1;33m==\u001B[0m\u001B[1;33m==\u001B[0m\u001B[1;33m==\u001B[0m\u001B[1;33m==\u001B[0m\u001B[1;33m==\u001B[0m\u001B[1;33m==\u001B[0m\u001B[1;33m==\u001B[0m\u001B[1;33m\u001B[0m\u001B[1;33m\u001B[0m\u001B[0m\n\u001B[0;32m     22\u001B[0m \u001B[1;33m{\u001B[0m\u001B[0m_environment\u001B[0m\u001B[1;33m.\u001B[0m\u001B[0m_diagnose_import_error\u001B[0m\u001B[1;33m(\u001B[0m\u001B[1;33m)\u001B[0m\u001B[1;33m}\u001B[0m\u001B[1;33m\u001B[0m\u001B[1;33m\u001B[0m\u001B[0m\n",
      "\u001B[1;31mImportError\u001B[0m: \n================================================================\nFailed to import CuPy.\n\nIf you installed CuPy via wheels (cupy-cudaXXX or cupy-rocm-X-X), make sure that the package matches with the version of CUDA or ROCm installed.\n\nOn Linux, you may need to set LD_LIBRARY_PATH environment variable depending on how you installed CUDA/ROCm.\nOn Windows, try setting CUDA_PATH environment variable.\n\nCheck the Installation Guide for details:\n  https://docs.cupy.dev/en/latest/install.html\n\nOriginal error:\n  ImportError: cannot import name _util\n================================================================\n"
     ]
    }
   ],
   "source": [
    "#from https://gist.github.com/szagoruyko/dccce13465df1542621b728fcc15df53\n",
    "import torch\n",
    "from cupy.cuda import function\n",
    "from pynvrtc.compiler import Program\n",
    "from collections import namedtuple\n",
    "\n",
    "a = torch.randn(1,4,4).cuda()\n",
    "b = torch.zeros(a.size()).cuda()\n",
    "\n",
    "kernel = '''\n",
    "extern \"C\"\n",
    "__global__ void flip(float *dst, const float *src, int w, int total)\n",
    "{\n",
    "   int i = blockIdx.x * blockDim.x + threadIdx.x;\n",
    "   if(i >= total)\n",
    "      return;\n",
    "   dst[i] = src[(i / w) * w + (w - (i % w) - 1)];\n",
    "}\n",
    "'''\n",
    "program = Program(kernel, 'flip.cu')\n",
    "ptx = program.compile()\n",
    "\n",
    "m = function.Module()\n",
    "m.load(bytes(ptx.encode()))\n",
    "\n",
    "f = m.get_function('flip')\n",
    "\n",
    "Stream = namedtuple('Stream', ['ptr'])\n",
    "s = Stream(ptr=torch.cuda.current_stream().cuda_stream)\n",
    "\n",
    "f(grid=(1,1,1), block=(1024,1,1), args=[b.data_ptr(), a.data_ptr(), a.size(-1), a.numel()],\n",
    "  stream=s)\n",
    "\n",
    "print(a)\n",
    "print(b)\n"
   ],
   "metadata": {
    "collapsed": false,
    "pycharm": {
     "name": "#%%\n"
    }
   }
  },
  {
   "cell_type": "code",
   "execution_count": null,
   "outputs": [],
   "source": [
    "from julia import Main\n",
    "Main.eval(\"\"\"\n",
    "using CUDA\n",
    "function aa(arr)\n",
    "return sum(CuArray(arr))\n",
    "end\n",
    "\n",
    "\"\"\")"
   ],
   "metadata": {
    "collapsed": false,
    "pycharm": {
     "name": "#%%\n"
    }
   }
  },
  {
   "cell_type": "code",
   "execution_count": null,
   "outputs": [],
   "source": [
    "from julia import Main\n",
    "import numpy as np\n",
    "Main.aa(np.array([2,2,2]))"
   ],
   "metadata": {
    "collapsed": false,
    "pycharm": {
     "name": "#%%\n"
    }
   }
  },
  {
   "cell_type": "code",
   "execution_count": null,
   "outputs": [],
   "source": [
    "from julia import Main\n",
    "import numpy as np\n",
    "arr= np.array([2,2,2])\n",
    "sum(CUDA.ones(2,2,2))\n",
    "\"\"\")"
   ],
   "metadata": {
    "collapsed": false,
    "pycharm": {
     "name": "#%%\n"
    }
   }
  }
 ],
 "metadata": {
  "kernelspec": {
   "display_name": "Python 3",
   "language": "python",
   "name": "python3"
  },
  "language_info": {
   "codemirror_mode": {
    "name": "ipython",
    "version": 2
   },
   "file_extension": ".py",
   "mimetype": "text/x-python",
   "name": "python",
   "nbconvert_exporter": "python",
   "pygments_lexer": "ipython2",
   "version": "2.7.6"
  }
 },
 "nbformat": 4,
 "nbformat_minor": 0
}