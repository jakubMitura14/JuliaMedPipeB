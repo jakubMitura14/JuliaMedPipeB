{
 "cells": [
  {
   "cell_type": "code",
   "execution_count": 38,
   "metadata": {
    "collapsed": true
   },
   "outputs": [],
   "source": [
    "import gspread as gspread\n",
    "!python -c \"import monai\" || pip install -q \"monai-weekly[gdown, nibabel, tqdm, ignite]\"\n",
    "!python -c \"import matplotlib\" || pip install -q matplotlib"
   ]
  },
  {
   "cell_type": "code",
   "execution_count": 39,
   "outputs": [
    {
     "name": "stdout",
     "output_type": "stream",
     "text": [
      "MONAI version: 0.8.0\n",
      "Numpy version: 1.21.5\n",
      "Pytorch version: 1.10.1+cu113\n",
      "MONAI flags: HAS_EXT = False, USE_COMPILED = False\n",
      "MONAI rev id: 714d00dffe6653e21260160666c4c201ab66511b\n",
      "\n",
      "Optional dependencies:\n",
      "Pytorch Ignite version: 0.4.7\n",
      "Nibabel version: 3.2.1\n",
      "scikit-image version: 0.19.1\n",
      "Pillow version: 8.4.0\n",
      "Tensorboard version: NOT INSTALLED or UNKNOWN VERSION.\n",
      "gdown version: 4.2.0\n",
      "TorchVision version: 0.11.2+cu113\n",
      "tqdm version: 4.62.3\n",
      "lmdb version: NOT INSTALLED or UNKNOWN VERSION.\n",
      "psutil version: NOT INSTALLED or UNKNOWN VERSION.\n",
      "pandas version: NOT INSTALLED or UNKNOWN VERSION.\n",
      "einops version: NOT INSTALLED or UNKNOWN VERSION.\n",
      "transformers version: NOT INSTALLED or UNKNOWN VERSION.\n",
      "mlflow version: NOT INSTALLED or UNKNOWN VERSION.\n",
      "\n",
      "For details about installing the optional dependencies, please visit:\n",
      "    https://docs.monai.io/en/latest/installation.html#installing-the-recommended-dependencies\n",
      "\n"
     ]
    }
   ],
   "source": [
    "from monai.utils import first, set_determinism\n",
    "from monai.transforms import (\n",
    "    AsDiscrete,\n",
    "    AsDiscreted,\n",
    "    EnsureChannelFirstd,\n",
    "    Compose,\n",
    "    CropForegroundd,\n",
    "    LoadImaged,\n",
    "    Orientationd,\n",
    "    RandCropByPosNegLabeld,\n",
    "    ScaleIntensityRanged,\n",
    "    Spacingd,\n",
    "    EnsureTyped,\n",
    "    EnsureType,\n",
    "    Invertd,\n",
    ")\n",
    "from monai.handlers.utils import from_engine\n",
    "from monai.networks.nets import UNet\n",
    "from monai.networks.layers import Norm\n",
    "from monai.metrics import DiceMetric\n",
    "from monai.losses import DiceLoss\n",
    "from monai.inferers import sliding_window_inference\n",
    "from monai.data import CacheDataset, DataLoader, Dataset, decollate_batch\n",
    "from monai.config import print_config\n",
    "from monai.apps import download_and_extract\n",
    "import torch\n",
    "import matplotlib.pyplot as plt\n",
    "import tempfile\n",
    "import shutil\n",
    "import os\n",
    "import glob\n",
    "import re\n",
    "\n",
    "\n",
    "\n",
    "from monai.transforms import (\n",
    "    LoadImage, LoadImaged, EnsureChannelFirstd,\n",
    "    Resized, EnsureTyped, Compose\n",
    ")\n",
    "from monai.config import print_config\n",
    "\n",
    "print_config()"
   ],
   "metadata": {
    "collapsed": false,
    "pycharm": {
     "name": "#%%\n"
    }
   }
  },
  {
   "cell_type": "code",
   "execution_count": 41,
   "outputs": [],
   "source": [
    "set_determinism(seed=0)\n",
    "val_transforms = Compose(\n",
    "    [\n",
    "        LoadImaged(keys=[\"image\", \"label\"]),\n",
    "        EnsureChannelFirstd(keys=[\"image\", \"label\"]),\n",
    "        Spacingd(keys=[\"image\", \"label\"], pixdim=(\n",
    "            1.0, 1.0, 1.0), mode=(\"bilinear\", \"nearest\")),#standardizing the size of image ...\n",
    "        Orientationd(keys=[\"image\", \"label\"], axcodes=\"RAS\"),\n",
    "        CropForegroundd(keys=[\"image\", \"label\"], source_key=\"image\"),\n",
    "        EnsureTyped(keys=[\"image\", \"label\"]),\n",
    "    ]\n",
    ")\n",
    "\n",
    "\n",
    "        # ScaleIntensityRanged(\n",
    "        #     keys=[\"image\"], a_min=-57, a_max=164,\n",
    "        #     b_min=0.0, b_max=1.0, clip=True,\n",
    "        # ),"
   ],
   "metadata": {
    "collapsed": false,
    "pycharm": {
     "name": "#%%\n"
    }
   }
  },
  {
   "cell_type": "code",
   "execution_count": 42,
   "outputs": [
    {
     "data": {
      "text/plain": "[{'image': 'C:\\\\Users\\\\1\\\\Downloads\\\\volumes 0-49\\\\volumes 0-49\\\\volume-19.nii.gz',\n  'label': 'C:\\\\Users\\\\1\\\\Downloads\\\\volumes 0-49\\\\labels\\\\labels-19.nii.gz'},\n {'image': 'C:\\\\Users\\\\1\\\\Downloads\\\\volumes 0-49\\\\volumes 0-49\\\\volume-20.nii.gz',\n  'label': 'C:\\\\Users\\\\1\\\\Downloads\\\\volumes 0-49\\\\labels\\\\labels-20.nii.gz'},\n {'image': 'C:\\\\Users\\\\1\\\\Downloads\\\\volumes 0-49\\\\volumes 0-49\\\\volume-21.nii.gz',\n  'label': 'C:\\\\Users\\\\1\\\\Downloads\\\\volumes 0-49\\\\labels\\\\labels-21.nii.gz'}]"
     },
     "execution_count": 42,
     "metadata": {},
     "output_type": "execute_result"
    }
   ],
   "source": [
    "data_dir = 'C:\\\\Users\\\\1\\\\Downloads\\\\volumes 0-49'\n",
    "\n",
    "train_images = sorted(\n",
    "    glob.glob(os.path.join(data_dir, \"volumes 0-49\", \"*.nii.gz\")))\n",
    "\n",
    "train_labels = sorted(\n",
    "    glob.glob(os.path.join(data_dir, \"labels\", \"*.nii.gz\")))\n",
    "\n",
    "data_dicts = [\n",
    "    {\"image\": image_name, \"label\": label_name}\n",
    "    for image_name, label_name in zip(train_images, train_labels)\n",
    "]\n",
    "data_dicts\n",
    "#train_files, val_files = data_dicts[:-9], data_dicts[-9:]"
   ],
   "metadata": {
    "collapsed": false,
    "pycharm": {
     "name": "#%%\n"
    }
   }
  },
  {
   "cell_type": "code",
   "execution_count": 43,
   "outputs": [],
   "source": [
    "import h5py\n",
    "f = h5py.File(\"D:\\\\dataSets\\\\forMainHDF5\\\\CtOrg.hdf5\", \"w\")"
   ],
   "metadata": {
    "collapsed": false,
    "pycharm": {
     "name": "#%%\n"
    }
   }
  },
  {
   "cell_type": "code",
   "execution_count": 46,
   "outputs": [
    {
     "name": "stdout",
     "output_type": "stream",
     "text": [
      "19\n",
      "20\n",
      "21\n"
     ]
    }
   ],
   "source": [
    "check_ds = Dataset(data=data_dicts, transform=val_transforms)\n",
    "check_loader = DataLoader(check_ds, batch_size=1)\n",
    "#looking for biggest image for metrics testing\n",
    "biggestDat = 0\n",
    "index = 0\n",
    "maxxx = 0\n",
    "for dat in check_loader:\n",
    "    index+=1\n",
    "    #### getting number describing patient\n",
    "    string = str(dat['image_meta_dict']['filename_or_obj'])\n",
    "    numb = re.search('.nii', string).span()[0] ## this does what you wanted\n",
    "    describingNumber = string[(numb-2):(numb)]\n",
    "    #group collecting\n",
    "    grp = f.create_group(describingNumber)\n",
    "    imageDst = grp.create_dataset('image', data=  dat['image'].cpu().detach().numpy())\n",
    "    labelDst= grp.create_dataset('label', data=  dat['label'].cpu().detach().numpy())\n",
    "    #setting attributes needed for later identification\n",
    "    imageDst.attrs['studyType'] = 'CT';\n",
    "    labelDst.attrs['studyType'] = 'multiLabel';\n",
    "\n",
    "    print(describingNumber)\n",
    "    # if index==14:\n",
    "    #     biggestDat = dat\n",
    "    #     break"
   ],
   "metadata": {
    "collapsed": false,
    "pycharm": {
     "name": "#%%\n"
    }
   }
  },
  {
   "cell_type": "code",
   "execution_count": null,
   "outputs": [],
   "source": [
    "['C:\\\\Users\\\\1\\\\Downloads\\\\volumes 0-49\\\\volumes 0-49\\\\volume-19.nii.gz']"
   ],
   "metadata": {
    "collapsed": false,
    "pycharm": {
     "name": "#%%\n"
    }
   }
  },
  {
   "cell_type": "markdown",
   "source": [
    "Closing  connection to hdf5"
   ],
   "metadata": {
    "collapsed": false,
    "pycharm": {
     "name": "#%% md\n"
    }
   }
  },
  {
   "cell_type": "code",
   "execution_count": 47,
   "outputs": [],
   "source": [
    "f.close()"
   ],
   "metadata": {
    "collapsed": false,
    "pycharm": {
     "name": "#%%\n"
    }
   }
  }
 ],
 "metadata": {
  "kernelspec": {
   "display_name": "Python 3",
   "language": "python",
   "name": "python3"
  },
  "language_info": {
   "codemirror_mode": {
    "name": "ipython",
    "version": 2
   },
   "file_extension": ".py",
   "mimetype": "text/x-python",
   "name": "python",
   "nbconvert_exporter": "python",
   "pygments_lexer": "ipython2",
   "version": "2.7.6"
  }
 },
 "nbformat": 4,
 "nbformat_minor": 0
}